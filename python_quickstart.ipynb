{
  "nbformat": 4,
  "nbformat_minor": 0,
  "metadata": {
    "colab": {
      "provenance": [],
      "authorship_tag": "ABX9TyMBw+lZzvVVYBiIqgy8ww21",
      "include_colab_link": true
    },
    "kernelspec": {
      "name": "python3",
      "display_name": "Python 3"
    },
    "language_info": {
      "name": "python"
    }
  },
  "cells": [
    {
      "cell_type": "markdown",
      "metadata": {
        "id": "view-in-github",
        "colab_type": "text"
      },
      "source": [
        "<a href=\"https://colab.research.google.com/github/ankujuniyal/Learn_Gen-AI/blob/main/python_quickstart.ipynb\" target=\"_parent\"><img src=\"https://colab.research.google.com/assets/colab-badge.svg\" alt=\"Open In Colab\"/></a>"
      ]
    },
    {
      "cell_type": "code",
      "execution_count": 8,
      "metadata": {
        "id": "7Nfl30LXLpaB"
      },
      "outputs": [],
      "source": []
    },
    {
      "cell_type": "markdown",
      "source": [
        "Copy write https://colab.research.google.com/github/google/generative-ai-docs/blob/main/site/en/tutorials/python_quickstart.ipynb?utm_medium=link&utm_campaign=gemini#scrollTo=TS9l5igubpHO\n"
      ],
      "metadata": {
        "id": "pVWlzMoJLuvD"
      }
    },
    {
      "cell_type": "code",
      "source": [
        "import pathlib\n",
        "import textwrap\n",
        "\n",
        "import google.generativeai as genai\n",
        "\n",
        "from IPython.display import display\n",
        "from IPython.display import Markdown\n",
        "\n",
        "\n",
        "def to_markdown(text):\n",
        "  text = text.replace('•', '  *')\n",
        "  return Markdown(textwrap.indent(text, '> ', predicate=lambda _: True))"
      ],
      "metadata": {
        "id": "stzjYVMoLzxq"
      },
      "execution_count": 9,
      "outputs": []
    },
    {
      "cell_type": "markdown",
      "source": [
        "\n",
        "```\n",
        "# This is formatted as code\n",
        "```\n",
        "\n",
        "In Colab, add the key to the secrets manager under the \"🔑\" in the left panel. Give it the name `GOOGLE_API_KEY`."
      ],
      "metadata": {
        "id": "fJiDXEE8MfpV"
      }
    },
    {
      "cell_type": "code",
      "source": [
        "from google.colab import userdata\n",
        "# userdata.get('GOOGLE_API_KEY')"
      ],
      "metadata": {
        "id": "c1gpF7eqL3sM"
      },
      "execution_count": 10,
      "outputs": []
    },
    {
      "cell_type": "code",
      "source": [
        "# Or use `os.getenv('GOOGLE_API_KEY')` to fetch an environment variable.\n",
        "GOOGLE_API_KEY=userdata.get('GOOGLE_API_KEY')\n",
        "\n",
        "genai.configure(api_key=GOOGLE_API_KEY)"
      ],
      "metadata": {
        "id": "Q6lo7VmYMwi8"
      },
      "execution_count": 11,
      "outputs": []
    },
    {
      "cell_type": "code",
      "source": [
        "for m in genai.list_models():\n",
        "  if 'generateContent' in m.supported_generation_methods:\n",
        "    print(m.name)"
      ],
      "metadata": {
        "colab": {
          "base_uri": "https://localhost:8080/",
          "height": 124
        },
        "id": "z57IwiRyNEyr",
        "outputId": "0fae3fec-11c7-405e-e9fb-b73330736b31"
      },
      "execution_count": 12,
      "outputs": [
        {
          "output_type": "stream",
          "name": "stdout",
          "text": [
            "models/gemini-1.0-pro\n",
            "models/gemini-1.0-pro-001\n",
            "models/gemini-1.0-pro-latest\n",
            "models/gemini-1.0-pro-vision-latest\n",
            "models/gemini-pro\n",
            "models/gemini-pro-vision\n"
          ]
        }
      ]
    },
    {
      "cell_type": "code",
      "source": [
        "%%time\n",
        "model = genai.GenerativeModel(\"models/gemini-pro\")\n",
        "response = model.generate_content(\"What is the meaning of life?\")\n"
      ],
      "metadata": {
        "colab": {
          "base_uri": "https://localhost:8080/",
          "height": 53
        },
        "id": "vEP8etZwNHTk",
        "outputId": "ffa8b96a-c0e2-467b-867e-59961559e028"
      },
      "execution_count": 13,
      "outputs": [
        {
          "output_type": "stream",
          "name": "stdout",
          "text": [
            "CPU times: user 137 ms, sys: 19.9 ms, total: 157 ms\n",
            "Wall time: 11.9 s\n"
          ]
        }
      ]
    },
    {
      "cell_type": "code",
      "source": [
        "response.prompt_feedback"
      ],
      "metadata": {
        "colab": {
          "base_uri": "https://localhost:8080/"
        },
        "id": "vlhglLF5Pb0I",
        "outputId": "1f6a225e-cee0-485f-a22e-11f972c16c3e"
      },
      "execution_count": 14,
      "outputs": [
        {
          "output_type": "execute_result",
          "data": {
            "text/plain": [
              "safety_ratings {\n",
              "  category: HARM_CATEGORY_SEXUALLY_EXPLICIT\n",
              "  probability: NEGLIGIBLE\n",
              "}\n",
              "safety_ratings {\n",
              "  category: HARM_CATEGORY_HATE_SPEECH\n",
              "  probability: NEGLIGIBLE\n",
              "}\n",
              "safety_ratings {\n",
              "  category: HARM_CATEGORY_HARASSMENT\n",
              "  probability: NEGLIGIBLE\n",
              "}\n",
              "safety_ratings {\n",
              "  category: HARM_CATEGORY_DANGEROUS_CONTENT\n",
              "  probability: NEGLIGIBLE\n",
              "}"
            ]
          },
          "metadata": {},
          "execution_count": 14
        }
      ]
    },
    {
      "cell_type": "code",
      "source": [
        "to_markdown(response.text)"
      ],
      "metadata": {
        "colab": {
          "base_uri": "https://localhost:8080/",
          "height": 626
        },
        "id": "HTlBjGgJPh5d",
        "outputId": "bb958db8-a66b-44c3-d9d6-1cc5a4ce9969"
      },
      "execution_count": 15,
      "outputs": [
        {
          "output_type": "execute_result",
          "data": {
            "text/plain": [
              "<IPython.core.display.Markdown object>"
            ],
            "text/markdown": "> There is no one definitive answer to the question of the meaning of life. Different people may have different perspectives on this topic, and there are various philosophical, religious, and personal approaches to understanding the purpose and significance of human existence. Here are some commonly held views on the meaning of life:\n> \n> **Purpose-Driven:**\n> \n> * To fulfill a specific purpose or destiny assigned by a higher power, nature, or society.\n> * To make a positive impact on the world, contribute to others, and leave a lasting legacy.\n> * To achieve personal goals, aspirations, and dreams.\n> \n> **Existentialist:**\n> \n> * To create your own meaning and purpose through your actions, choices, and experiences.\n> * To embrace the absurdity of existence and find meaning in the subjective journey of life.\n> * To live authentically, according to your values and desires.\n> \n> **Hedonistic:**\n> \n> * To seek pleasure, enjoyment, and happiness as the ultimate goal of life.\n> * To indulge in experiences that bring immediate gratification.\n> * To avoid pain and suffering as much as possible.\n> \n> **Eudaimonic:**\n> \n> * To live a life of virtue, wisdom, and well-being.\n> * To develop personal qualities such as courage, temperance, justice, and prudence.\n> * To strive for fulfillment, self-actualization, and a sense of purpose.\n> \n> **Religious:**\n> \n> * To serve a higher power, such as God or a deity, and follow the teachings of a particular religion.\n> * To prepare for an afterlife or spiritual existence beyond this world.\n> * To find meaning and guidance through religious practices, beliefs, and rituals.\n> \n> **Meaningful Relationships:**\n> \n> * To connect with others, build strong relationships, and experience love, compassion, and intimacy.\n> * To be part of a community and contribute to the well-being of those around you.\n> * To find meaning through acts of kindness, support, and selfless service.\n> \n> Ultimately, the meaning of life is a deeply personal and subjective matter. It is something that each individual must explore and discover for themselves through their own experiences, reflections, and values. There is no right or wrong answer, and the meaning of life can evolve and change over time."
          },
          "metadata": {},
          "execution_count": 15
        }
      ]
    },
    {
      "cell_type": "code",
      "source": [
        "for chunk in response:\n",
        "  print(chunk.text)\n",
        "  print(\"_\"*80)"
      ],
      "metadata": {
        "colab": {
          "base_uri": "https://localhost:8080/"
        },
        "id": "m0o-N7O4PicA",
        "outputId": "267eb398-d67b-490d-d470-149466aa081a"
      },
      "execution_count": 16,
      "outputs": [
        {
          "output_type": "stream",
          "name": "stdout",
          "text": [
            "There is no one definitive answer to the question of the meaning of life. Different people may have different perspectives on this topic, and there are various philosophical, religious, and personal approaches to understanding the purpose and significance of human existence. Here are some commonly held views on the meaning of life:\n",
            "\n",
            "**Purpose-Driven:**\n",
            "\n",
            "* To fulfill a specific purpose or destiny assigned by a higher power, nature, or society.\n",
            "* To make a positive impact on the world, contribute to others, and leave a lasting legacy.\n",
            "* To achieve personal goals, aspirations, and dreams.\n",
            "\n",
            "**Existentialist:**\n",
            "\n",
            "* To create your own meaning and purpose through your actions, choices, and experiences.\n",
            "* To embrace the absurdity of existence and find meaning in the subjective journey of life.\n",
            "* To live authentically, according to your values and desires.\n",
            "\n",
            "**Hedonistic:**\n",
            "\n",
            "* To seek pleasure, enjoyment, and happiness as the ultimate goal of life.\n",
            "* To indulge in experiences that bring immediate gratification.\n",
            "* To avoid pain and suffering as much as possible.\n",
            "\n",
            "**Eudaimonic:**\n",
            "\n",
            "* To live a life of virtue, wisdom, and well-being.\n",
            "* To develop personal qualities such as courage, temperance, justice, and prudence.\n",
            "* To strive for fulfillment, self-actualization, and a sense of purpose.\n",
            "\n",
            "**Religious:**\n",
            "\n",
            "* To serve a higher power, such as God or a deity, and follow the teachings of a particular religion.\n",
            "* To prepare for an afterlife or spiritual existence beyond this world.\n",
            "* To find meaning and guidance through religious practices, beliefs, and rituals.\n",
            "\n",
            "**Meaningful Relationships:**\n",
            "\n",
            "* To connect with others, build strong relationships, and experience love, compassion, and intimacy.\n",
            "* To be part of a community and contribute to the well-being of those around you.\n",
            "* To find meaning through acts of kindness, support, and selfless service.\n",
            "\n",
            "Ultimately, the meaning of life is a deeply personal and subjective matter. It is something that each individual must explore and discover for themselves through their own experiences, reflections, and values. There is no right or wrong answer, and the meaning of life can evolve and change over time.\n",
            "________________________________________________________________________________\n"
          ]
        }
      ]
    }
  ]
}