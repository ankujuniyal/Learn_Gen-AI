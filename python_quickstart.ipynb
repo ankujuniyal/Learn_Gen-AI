{
  "nbformat": 4,
  "nbformat_minor": 0,
  "metadata": {
    "colab": {
      "provenance": [],
      "authorship_tag": "ABX9TyNYu88JO4kuzuQkTidOvyMU",
      "include_colab_link": true
    },
    "kernelspec": {
      "name": "python3",
      "display_name": "Python 3"
    },
    "language_info": {
      "name": "python"
    }
  },
  "cells": [
    {
      "cell_type": "markdown",
      "metadata": {
        "id": "view-in-github",
        "colab_type": "text"
      },
      "source": [
        "<a href=\"https://colab.research.google.com/github/ankujuniyal/Learn_Gen-AI/blob/main/python_quickstart.ipynb\" target=\"_parent\"><img src=\"https://colab.research.google.com/assets/colab-badge.svg\" alt=\"Open In Colab\"/></a>"
      ]
    },
    {
      "cell_type": "code",
      "execution_count": null,
      "metadata": {
        "id": "7Nfl30LXLpaB"
      },
      "outputs": [],
      "source": []
    },
    {
      "cell_type": "markdown",
      "source": [
        "Copy write https://colab.research.google.com/github/google/generative-ai-docs/blob/main/site/en/tutorials/python_quickstart.ipynb?utm_medium=link&utm_campaign=gemini#scrollTo=TS9l5igubpHO\n"
      ],
      "metadata": {
        "id": "pVWlzMoJLuvD"
      }
    },
    {
      "cell_type": "code",
      "source": [
        "import pathlib\n",
        "import textwrap\n",
        "\n",
        "import google.generativeai as genai\n",
        "\n",
        "from IPython.display import display\n",
        "from IPython.display import Markdown\n",
        "\n",
        "\n",
        "def to_markdown(text):\n",
        "  text = text.replace('•', '  *')\n",
        "  return Markdown(textwrap.indent(text, '> ', predicate=lambda _: True))"
      ],
      "metadata": {
        "id": "stzjYVMoLzxq"
      },
      "execution_count": 1,
      "outputs": []
    },
    {
      "cell_type": "markdown",
      "source": [
        "\n",
        "```\n",
        "# This is formatted as code\n",
        "```\n",
        "\n",
        "In Colab, add the key to the secrets manager under the \"🔑\" in the left panel. Give it the name `GOOGLE_API_KEY`."
      ],
      "metadata": {
        "id": "fJiDXEE8MfpV"
      }
    },
    {
      "cell_type": "code",
      "source": [
        "from google.colab import userdata\n",
        "userdata.get('GOOGLE_API_KEY')"
      ],
      "metadata": {
        "id": "c1gpF7eqL3sM"
      },
      "execution_count": null,
      "outputs": []
    },
    {
      "cell_type": "code",
      "source": [
        "# Or use `os.getenv('GOOGLE_API_KEY')` to fetch an environment variable.\n",
        "GOOGLE_API_KEY=userdata.get('GOOGLE_API_KEY')\n",
        "\n",
        "genai.configure(api_key=GOOGLE_API_KEY)"
      ],
      "metadata": {
        "id": "Q6lo7VmYMwi8"
      },
      "execution_count": 4,
      "outputs": []
    },
    {
      "cell_type": "code",
      "source": [
        "for m in genai.list_models():\n",
        "  if 'generateContent' in m.supported_generation_methods:\n",
        "    print(m.name)"
      ],
      "metadata": {
        "colab": {
          "base_uri": "https://localhost:8080/",
          "height": 124
        },
        "id": "z57IwiRyNEyr",
        "outputId": "4ad52e27-a1f7-4ca4-af83-cd5a77164d5c"
      },
      "execution_count": 5,
      "outputs": [
        {
          "output_type": "stream",
          "name": "stdout",
          "text": [
            "models/gemini-1.0-pro\n",
            "models/gemini-1.0-pro-001\n",
            "models/gemini-1.0-pro-latest\n",
            "models/gemini-1.0-pro-vision-latest\n",
            "models/gemini-pro\n",
            "models/gemini-pro-vision\n"
          ]
        }
      ]
    },
    {
      "cell_type": "code",
      "source": [
        "%%time\n",
        "model = genai.GenerativeModel(\"models/gemini-pro\")\n",
        "response = model.generate_content(\"What is the meaning of life?\")\n"
      ],
      "metadata": {
        "colab": {
          "base_uri": "https://localhost:8080/",
          "height": 53
        },
        "id": "vEP8etZwNHTk",
        "outputId": "f006c257-c3d3-4e9a-dd83-7ca16a2da31f"
      },
      "execution_count": 9,
      "outputs": [
        {
          "output_type": "stream",
          "name": "stdout",
          "text": [
            "CPU times: user 107 ms, sys: 13 ms, total: 120 ms\n",
            "Wall time: 7.58 s\n"
          ]
        }
      ]
    },
    {
      "cell_type": "code",
      "source": [
        "response.prompt_feedback"
      ],
      "metadata": {
        "colab": {
          "base_uri": "https://localhost:8080/"
        },
        "id": "vlhglLF5Pb0I",
        "outputId": "6b7ca5e8-43bf-41bc-d9cd-ce120a7529a1"
      },
      "execution_count": 10,
      "outputs": [
        {
          "output_type": "execute_result",
          "data": {
            "text/plain": [
              "safety_ratings {\n",
              "  category: HARM_CATEGORY_SEXUALLY_EXPLICIT\n",
              "  probability: NEGLIGIBLE\n",
              "}\n",
              "safety_ratings {\n",
              "  category: HARM_CATEGORY_HATE_SPEECH\n",
              "  probability: NEGLIGIBLE\n",
              "}\n",
              "safety_ratings {\n",
              "  category: HARM_CATEGORY_HARASSMENT\n",
              "  probability: NEGLIGIBLE\n",
              "}\n",
              "safety_ratings {\n",
              "  category: HARM_CATEGORY_DANGEROUS_CONTENT\n",
              "  probability: NEGLIGIBLE\n",
              "}"
            ]
          },
          "metadata": {},
          "execution_count": 10
        }
      ]
    },
    {
      "cell_type": "code",
      "source": [
        "to_markdown(response.text)"
      ],
      "metadata": {
        "colab": {
          "base_uri": "https://localhost:8080/",
          "height": 393
        },
        "id": "HTlBjGgJPh5d",
        "outputId": "a52c7460-9f00-4fbf-9b96-9942bd3a77f4"
      },
      "execution_count": 11,
      "outputs": [
        {
          "output_type": "execute_result",
          "data": {
            "text/plain": [
              "<IPython.core.display.Markdown object>"
            ],
            "text/markdown": "> The meaning of life is a deeply personal and philosophical question that has preoccupied humans for centuries. There is no one definitive answer that applies to everyone, as the meaning of life can vary widely depending on individual beliefs, values, and experiences.\n> \n> Some common perspectives on the meaning of life include:\n> \n> * **Purpose or destiny:** Some people believe that life has a predetermined purpose or destiny, which they strive to fulfill. This purpose may involve leaving a legacy, making a positive impact on the world, or achieving personal growth.\n> * **Relationships and connections:** For many people, the meaning of life is found in the relationships they build with others. Connecting with loved ones, fostering meaningful friendships, and contributing to a supportive community can bring joy and fulfillment.\n> * **Personal growth and self-discovery:** Some view the meaning of life as a journey of self-discovery and personal growth. Through experiences, challenges, and introspection, individuals can learn more about themselves, develop their skills and talents, and strive to become the best versions of themselves.\n> * **Experiencing beauty and wonder:** Life can also be seen as an opportunity to appreciate the beauty and wonder of the world around us. From admiring nature to creating art, there are many ways to connect with the beauty of life and derive meaning from it.\n> * **Making a contribution:** Many people find meaning in contributing to something larger than themselves. This can involve volunteering, supporting charities, or pursuing work that makes a positive impact on society.\n> * **Finding meaning in the present moment:** Some believe that the meaning of life is found not in some distant future or abstract concept, but in the present moment. By being mindful, present, and grateful, individuals can experience the joys and meaning of life in each moment.\n> \n> Ultimately, the meaning of life is a personal journey. It requires reflection, introspection, and a willingness to explore different perspectives and experiences. By embracing the fullness of life and seeking what brings them joy and fulfillment, individuals can discover their own unique meaning of life."
          },
          "metadata": {},
          "execution_count": 11
        }
      ]
    },
    {
      "cell_type": "code",
      "source": [],
      "metadata": {
        "id": "m0o-N7O4PicA"
      },
      "execution_count": null,
      "outputs": []
    }
  ]
}