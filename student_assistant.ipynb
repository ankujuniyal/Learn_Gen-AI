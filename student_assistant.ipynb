{
  "nbformat": 4,
  "nbformat_minor": 0,
  "metadata": {
    "colab": {
      "provenance": [],
      "authorship_tag": "ABX9TyPJVJd4+5lCQ2Hf67BSl1xZ",
      "include_colab_link": true
    },
    "kernelspec": {
      "name": "python3",
      "display_name": "Python 3"
    },
    "language_info": {
      "name": "python"
    }
  },
  "cells": [
    {
      "cell_type": "markdown",
      "metadata": {
        "id": "view-in-github",
        "colab_type": "text"
      },
      "source": [
        "<a href=\"https://colab.research.google.com/github/ankujuniyal/Learn_Gen-AI/blob/main/student_assistant.ipynb\" target=\"_parent\"><img src=\"https://colab.research.google.com/assets/colab-badge.svg\" alt=\"Open In Colab\"/></a>"
      ]
    },
    {
      "cell_type": "code",
      "source": [
        "#Basic Setup\n",
        "import google.generativeai as genai\n",
        "from google.colab import userdata\n",
        "api_key=userdata.get('GOOGLE_API_KEY')\n",
        "genai.configure(api_key=api_key)\n",
        "\n",
        "# Define Model Instance\n",
        "model = genai.GenerativeModel('gemini-pro')\n",
        "\n",
        "# Define function, which helps to execute any prompt\n",
        "def execute_prompt(prompt):\n",
        "  response = model.generate_content(prompt)\n",
        "  return response.text\n"
      ],
      "metadata": {
        "id": "LUL1Q20Jae2w"
      },
      "execution_count": 6,
      "outputs": []
    },
    {
      "cell_type": "markdown",
      "source": [
        "Define Question and execute"
      ],
      "metadata": {
        "id": "zgr8qSCNbLlh"
      }
    },
    {
      "cell_type": "code",
      "source": [
        "question = \"Find area of a circle ?\"\n",
        "\n",
        "response = execute_prompt(question)"
      ],
      "metadata": {
        "id": "4fotuyDnagIa"
      },
      "execution_count": 8,
      "outputs": []
    },
    {
      "cell_type": "code",
      "source": [
        "from IPython.display import Markdown\n",
        "\n",
        "Markdown(response)"
      ],
      "metadata": {
        "colab": {
          "base_uri": "https://localhost:8080/",
          "height": 151
        },
        "id": "-4NzhcIubXut",
        "outputId": "8fdef65f-0efc-45ea-d529-9eb9d74871b0"
      },
      "execution_count": 9,
      "outputs": [
        {
          "output_type": "execute_result",
          "data": {
            "text/plain": [
              "<IPython.core.display.Markdown object>"
            ],
            "text/markdown": "The area of a circle is given by the formula:\n\n```\nA = πr²\n```\n\nwhere:\n\n* A is the area of the circle\n* π (pi) is a mathematical constant approximately equal to 3.14159\n* r is the radius of the circle"
          },
          "metadata": {},
          "execution_count": 9
        }
      ]
    },
    {
      "cell_type": "markdown",
      "source": [
        "Add comprehensive explanation of the topic\n",
        "*   Comprehensive explanation\n",
        "*   Detailed Solution Summary\n",
        "*   Practical Examples"
      ],
      "metadata": {
        "id": "1uElAGNRcEQZ"
      }
    },
    {
      "cell_type": "code",
      "source": [
        "base_instruction = \"\"\"\n",
        "You're a dedicated student assistant ready to assist students. \\\n",
        "Please provide a comprehensive explanation of the following topic, \\\n",
        "including detailed solution summaries, practical examples,\n",
        "and step-by-step problem-solving methods.\"\"\"\n",
        "\n",
        "question = \"Find area of a circle ?\"\n",
        "\n",
        "prompt = f\"\"\"\n",
        "{base_instruction} \\n\\n {question}\n",
        "\"\"\"\n",
        "print(prompt)"
      ],
      "metadata": {
        "colab": {
          "base_uri": "https://localhost:8080/"
        },
        "id": "T7o8NS2dbqxE",
        "outputId": "0b3984bc-5448-431c-d9c7-996b3d596af2"
      },
      "execution_count": 10,
      "outputs": [
        {
          "output_type": "stream",
          "name": "stdout",
          "text": [
            "\n",
            "\n",
            "You're a dedicated student assistant ready to assist students. Please provide a comprehensive explanation of the following topic, including detailed solution summaries, practical examples,\n",
            "and step-by-step problem-solving methods. \n",
            "\n",
            " Find area of a circle ?\n",
            "\n"
          ]
        }
      ]
    },
    {
      "cell_type": "code",
      "source": [
        "response = execute_prompt(prompt)\n",
        "Markdown(response)"
      ],
      "metadata": {
        "colab": {
          "base_uri": "https://localhost:8080/",
          "height": 702
        },
        "id": "eVsuI64FcUjC",
        "outputId": "90db7973-b2a9-4d68-ac40-77d62e090295"
      },
      "execution_count": 11,
      "outputs": [
        {
          "output_type": "execute_result",
          "data": {
            "text/plain": [
              "<IPython.core.display.Markdown object>"
            ],
            "text/markdown": "**Topic: Finding the Area of a Circle**\n\n**Introduction:**\nA circle is a closed, two-dimensional figure with all points equidistant from a central point called the center. The distance from the center to any point on the circle is called the radius. The area of a circle represents the amount of space it covers.\n\n**Formula for Area of a Circle:**\n\nThe area of a circle with radius r is given by the formula:\n\n```\nArea = πr²\n```\n\nwhere π is a mathematical constant approximately equal to 3.14159.\n\n**Solution Summary:**\n\nTo find the area of a circle, simply substitute the given radius into the formula and evaluate the expression.\n\n**Practical Example:**\n\nFind the area of a circle with a radius of 5 inches.\n\n```\nArea = πr²\n= π(5)²\n= 25π\n≈ 78.54 square inches\n```\n\n**Step-by-Step Problem-Solving Method:**\n\n1. **Identify the radius:** Determine the length of the radius, which is the distance from the center to any point on the circle.\n2. **Substitute into the formula:** Replace the variable r in the area formula with the given radius value.\n3. **Evaluate the expression:** Multiply the radius by itself and then by π to calculate the area.\n4. **Simplify the result:** If necessary, round the answer to the appropriate number of decimal places or simplify using other mathematical operations.\n\n**Additional Notes:**\n\n* The area of a circle can also be expressed in terms of the diameter, which is twice the radius. The formula for area using the diameter is:\n```\nArea = (π/4)d²\n```\nwhere d is the diameter.\n\n* The circumference of a circle (the distance around the circle) is related to the area by the formula:\n```\nCircumference = 2πr\n```\n\n**Practice Problems:**\n\n1. Find the area of a circle with a radius of 3 centimeters.\n2. Calculate the area of a circle whose diameter is 10 feet.\n3. A pizza has a radius of 12 inches. What is the area of the pizza?"
          },
          "metadata": {},
          "execution_count": 11
        }
      ]
    },
    {
      "cell_type": "code",
      "source": [
        "question = \"Find area of a rectangle ?\"\n",
        "\n",
        "prompt = f\"\"\"\n",
        "{base_instruction} \\n\\n {question}\n",
        "\"\"\""
      ],
      "metadata": {
        "id": "xpypvbMicqb3"
      },
      "execution_count": 12,
      "outputs": []
    },
    {
      "cell_type": "code",
      "source": [
        "response = execute_prompt(prompt)\n",
        "Markdown(response)"
      ],
      "metadata": {
        "colab": {
          "base_uri": "https://localhost:8080/",
          "height": 576
        },
        "id": "4z3ou1M6ktkl",
        "outputId": "818ea2eb-4fa5-42d7-e024-48bdb3a48bc4"
      },
      "execution_count": 13,
      "outputs": [
        {
          "output_type": "execute_result",
          "data": {
            "text/plain": [
              "<IPython.core.display.Markdown object>"
            ],
            "text/markdown": "**Topic: Finding the Area of a Rectangle**\n\n**Definition:**\n\nThe area of a rectangle is the measure of the amount of space it covers. It is calculated by multiplying the length of the rectangle by its width.\n\n**Formula:**\n\n`Area = Length × Width`\n\n**Unit of Measurement:**\n\nThe area of a rectangle is measured in square units, typically square centimeters (cm²), square meters (m²), or square feet (ft²).\n\n**Steps to Find the Area of a Rectangle:**\n\n1. **Identify the length and width:** Measure the length (longest side) and width (shortest side) of the rectangle in the given unit.\n2. **Multiply the length by the width:** Use the formula `Area = Length × Width` to calculate the area.\n\n**Example:**\n\nFind the area of a rectangle with a length of 5 cm and a width of 3 cm.\n\n**Solution:**\n\n`Area = Length × Width`\n`Area = 5 cm × 3 cm`\n`Area = 15 cm²`\n\n**Problem-Solving Method:**\n\n1. **Understand the problem:** Ensure that you have all the necessary information to find the area (length and width).\n2. **Identify the relevant formula:** Use the formula `Area = Length × Width`.\n3. **Substitute the given values:** Replace the length and width in the formula with their given values.\n4. **Perform the calculation:** Multiply the length by the width to find the area.\n5. **State the answer:** Include the correct unit of measurement in your answer.\n\n**Additional Notes:**\n\n* If the rectangle is a square, the length and width will be equal. The area of a square is calculated as `Area = Side × Side`.\n* The area of composite rectangles can be found by breaking them down into individual rectangles and calculating the area of each part.\n* The area of a rectangle can be used to calculate other measurements, such as perimeter and volume."
          },
          "metadata": {},
          "execution_count": 13
        }
      ]
    },
    {
      "cell_type": "code",
      "source": [],
      "metadata": {
        "id": "PiMVzOgMkyO3"
      },
      "execution_count": null,
      "outputs": []
    }
  ]
}